{
 "cells": [
  {
   "cell_type": "code",
   "execution_count": 9,
   "metadata": {
    "scrolled": true
   },
   "outputs": [],
   "source": [
    "import requests\n",
    "import json\n",
    "import time\n",
    "import os\n",
    "from bs4 import BeautifulSoup\n",
    "from unicodedata2 import normalize\n",
    "\n",
    "from parse_tools import get_page_data"
   ]
  },
  {
   "cell_type": "code",
   "execution_count": 10,
   "metadata": {},
   "outputs": [],
   "source": [
    "stream = 'https://meduza.io/api/v3/search?chrono=news&page={page}&per_page=30&locale=ru'\n",
    "USER_AGENT = \"Mozilla/5.0 (X11; Ubuntu; Linux x86_64; rv:63.0) Gecko/20100101 Firefox/63.0\""
   ]
  },
  {
   "cell_type": "code",
   "execution_count": 11,
   "metadata": {},
   "outputs": [],
   "source": [
    "%run pipe_tools.py"
   ]
  },
  {
   "cell_type": "code",
   "execution_count": 12,
   "metadata": {},
   "outputs": [
    {
     "data": {
      "application/vnd.jupyter.widget-view+json": {
       "model_id": "ca87ff6c88844c38b657587d600e63c3",
       "version_major": 2,
       "version_minor": 0
      },
      "text/plain": [
       "IntProgress(value=0, max=25)"
      ]
     },
     "metadata": {},
     "output_type": "display_data"
    },
    {
     "data": {
      "application/vnd.jupyter.widget-view+json": {
       "model_id": "7769ecd67db04f9ab53afb949a7a3a0e",
       "version_major": 2,
       "version_minor": 0
      },
      "text/plain": [
       "IntProgress(value=0, max=25)"
      ]
     },
     "metadata": {},
     "output_type": "display_data"
    },
    {
     "data": {
      "application/vnd.jupyter.widget-view+json": {
       "model_id": "013e319821424b3e9d2f82b2d393d3da",
       "version_major": 2,
       "version_minor": 0
      },
      "text/plain": [
       "IntProgress(value=0, max=25)"
      ]
     },
     "metadata": {},
     "output_type": "display_data"
    },
    {
     "data": {
      "application/vnd.jupyter.widget-view+json": {
       "model_id": "adb344c7228b46659bec53dcc98c8aed",
       "version_major": 2,
       "version_minor": 0
      },
      "text/plain": [
       "IntProgress(value=0, max=25)"
      ]
     },
     "metadata": {},
     "output_type": "display_data"
    }
   ],
   "source": [
    "%job [get_page_data(page=page, stream=stream, user_agent=USER_AGENT) for page in log_progress(range(25))]\n",
    "%job [get_page_data(page=page, stream=stream, user_agent=USER_AGENT) for page in log_progress(range(25,50))]\n",
    "%job [get_page_data(page=page, stream=stream, user_agent=USER_AGENT) for page in log_progress(range(50,75))]\n",
    "%job [get_page_data(page=page, stream=stream, user_agent=USER_AGENT) for page in log_progress(range(75,100))]"
   ]
  },
  {
   "cell_type": "code",
   "execution_count": 13,
   "metadata": {
    "scrolled": true
   },
   "outputs": [
    {
     "name": "stdout",
     "output_type": "stream",
     "text": [
      "Running jobs:\n",
      "0 : [get_page_data(page=page, stream=stream, user_agent=USER_AGENT) for page in log_progress(range(25))]\n",
      "2 : [get_page_data(page=page, stream=stream, user_agent=USER_AGENT) for page in log_progress(range(25,50))]\n",
      "3 : [get_page_data(page=page, stream=stream, user_agent=USER_AGENT) for page in log_progress(range(50,75))]\n",
      "4 : [get_page_data(page=page, stream=stream, user_agent=USER_AGENT) for page in log_progress(range(75,100))]\n",
      "\n"
     ]
    }
   ],
   "source": [
    "jobs.status()"
   ]
  },
  {
   "cell_type": "code",
   "execution_count": 14,
   "metadata": {
    "scrolled": true
   },
   "outputs": [
    {
     "name": "stdout",
     "output_type": "stream",
     "text": [
      "Completed jobs:\n",
      "0 : [get_page_data(page=page, stream=stream, user_agent=USER_AGENT) for page in log_progress(range(25))]\n",
      "2 : [get_page_data(page=page, stream=stream, user_agent=USER_AGENT) for page in log_progress(range(25,50))]\n",
      "3 : [get_page_data(page=page, stream=stream, user_agent=USER_AGENT) for page in log_progress(range(50,75))]\n",
      "4 : [get_page_data(page=page, stream=stream, user_agent=USER_AGENT) for page in log_progress(range(75,100))]\n",
      "\n"
     ]
    }
   ],
   "source": [
    "jobs.status()"
   ]
  },
  {
   "cell_type": "code",
   "execution_count": 39,
   "metadata": {},
   "outputs": [
    {
     "name": "stdout",
     "output_type": "stream",
     "text": [
      "{'title': 'Компания «Кэшбери», которую ЦБ\\xa0считает финансовой пирамидой, закрылась. Ее\\xa0владелец тут\\xa0же пообещал создать новую', 'body': 'Группа компаний «Кэшбери», которую в Центробанке считают финансовой пирамидой, объявила о закрытии. В обращении, опубликованном на ютьюбе, владелец «Кэшбери» Артур Варданян сказал, что компания не может продолжать работу после того, как СМИ вылили на нее «тонны грязи». Он уверен, что «враги» компании не позволят ей работать. «На нас будут объявлять охоту до тех пор, пока мы не уйдем с рынка», — заявил Варданян. Он пообещал вернуть деньги клиентам и заявил, что в феврале 2019 года запустит новую компанию Global Decentralized Community (GDC), которая станет работать в десятках стран мира.Группа компаний «Кэшбери» открылась в 2016 году. Она позиционировала себя как «площадка взаимного кредитования» и «место встречи инвесторов и заемщиков». Компания предлагала клиентам выдавать займы частным лицам, малому и среднему бизнесу, предоставлять финансирование под залог движимого и недвижимого имущества и вкладываться в криптовалюту. Также она выдавала займы под 1,2-2,2% в день в зависимости от суммы. Клиентам обещали доходность до 600% годовых при пороге входа всего в одну тысячу рублей.«Кэшбери» проводила агрессивную рекламную кампанию в СМИ и интернете. В сети публиковали видеозаписи с первого дня рождения «Кэшбери», где выступали Валерий Меладзе и Николай Басков, причем последний исполнял гимн «Кэшбери». Криптовалюту компании CashberyCoin рекламировали тот же Басков и Ольга Бузова. Рекламу компании размещали на станциях Московского центрального кольца и в метро Петербурга.В конце сентября Банк России объявил «Кэшбери» финансовой пирамидой. По мнению регулятора, компания использует принципы сетевого маркетинга, обещая завышенный доход, но работает без лицензии ЦБ и не ведет реальной экономической деятельности. По оценке ЦБ, «Кэшбери» привлекла у десятков тысяч россиян деньги в рублях и криптовалюте на сумму до трех миллиардов рублей. Сама компания не говорит, сколько клиентов у нее было.Поскольку ЦБ сам не может закрыть «Кешбери» (у организации нет банковской или любой другой лицензии), он обратился в Генпрокуратуру и МВД. Полиция начала проверку, а прокуратура — подала в суд иск с требованием заблокировать сайты cashbery.com и кэшбери.рф (иск будет рассмотрен только 16 ноября). Действия ЦБ и правоохранительных органов привели к тому, что компания объявила о временной «приостановке работы» и прекращении выплат, но не перестала обновлять свой сайт. Так, 6 октября там прошел вебинар «О кешбери, СМИ и пирамидах», а 31 октября — вебинар по «Ораторскому искусству».В ЦБ уже заявили, что будут следить за ситуацией вокруг новой компании, которую планирует создать владелец «Кэшбери».Александр Бакланов'}\n"
     ]
    }
   ],
   "source": [
    "with open('res_dump/{0}'.format(os.listdir('res_dump')[0])) as f:\n",
    "    print(json.load(f))"
   ]
  },
  {
   "cell_type": "code",
   "execution_count": null,
   "metadata": {},
   "outputs": [],
   "source": []
  }
 ],
 "metadata": {
  "kernelspec": {
   "display_name": "Python 3",
   "language": "python",
   "name": "python3"
  },
  "language_info": {
   "codemirror_mode": {
    "name": "ipython",
    "version": 3
   },
   "file_extension": ".py",
   "mimetype": "text/x-python",
   "name": "python",
   "nbconvert_exporter": "python",
   "pygments_lexer": "ipython3",
   "version": "3.6.5"
  }
 },
 "nbformat": 4,
 "nbformat_minor": 2
}
