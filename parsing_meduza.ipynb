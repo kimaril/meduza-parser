{
 "cells": [
  {
   "cell_type": "code",
   "execution_count": 9,
   "metadata": {
    "scrolled": true
   },
   "outputs": [],
   "source": [
    "import requests\n",
    "import json\n",
    "import time\n",
    "import os\n",
    "from bs4 import BeautifulSoup\n",
    "from unicodedata2 import normalize\n",
    "\n",
    "from parse_tools import get_page_data"
   ]
  },
  {
   "cell_type": "code",
   "execution_count": 10,
   "metadata": {},
   "outputs": [],
   "source": [
    "stream = 'https://meduza.io/api/v3/search?chrono=news&page={page}&per_page=30&locale=ru'\n",
    "USER_AGENT = \"Mozilla/5.0 (X11; Ubuntu; Linux x86_64; rv:63.0) Gecko/20100101 Firefox/63.0\""
   ]
  },
  {
   "cell_type": "code",
   "execution_count": 11,
   "metadata": {},
   "outputs": [],
   "source": [
    "%run pipe_tools.py"
   ]
  },
  {
   "cell_type": "code",
   "execution_count": 12,
   "metadata": {},
   "outputs": [
    {
     "data": {
      "application/vnd.jupyter.widget-view+json": {
       "model_id": "ca87ff6c88844c38b657587d600e63c3",
       "version_major": 2,
       "version_minor": 0
      },
      "text/plain": [
       "IntProgress(value=0, max=25)"
      ]
     },
     "metadata": {},
     "output_type": "display_data"
    },
    {
     "data": {
      "application/vnd.jupyter.widget-view+json": {
       "model_id": "7769ecd67db04f9ab53afb949a7a3a0e",
       "version_major": 2,
       "version_minor": 0
      },
      "text/plain": [
       "IntProgress(value=0, max=25)"
      ]
     },
     "metadata": {},
     "output_type": "display_data"
    },
    {
     "data": {
      "application/vnd.jupyter.widget-view+json": {
       "model_id": "013e319821424b3e9d2f82b2d393d3da",
       "version_major": 2,
       "version_minor": 0
      },
      "text/plain": [
       "IntProgress(value=0, max=25)"
      ]
     },
     "metadata": {},
     "output_type": "display_data"
    },
    {
     "data": {
      "application/vnd.jupyter.widget-view+json": {
       "model_id": "adb344c7228b46659bec53dcc98c8aed",
       "version_major": 2,
       "version_minor": 0
      },
      "text/plain": [
       "IntProgress(value=0, max=25)"
      ]
     },
     "metadata": {},
     "output_type": "display_data"
    }
   ],
   "source": [
    "%job [get_page_data(page=page, stream=stream, user_agent=USER_AGENT) for page in log_progress(range(25))]\n",
    "%job [get_page_data(page=page, stream=stream, user_agent=USER_AGENT) for page in log_progress(range(25,50))]\n",
    "%job [get_page_data(page=page, stream=stream, user_agent=USER_AGENT) for page in log_progress(range(50,75))]\n",
    "%job [get_page_data(page=page, stream=stream, user_agent=USER_AGENT) for page in log_progress(range(75,100))]"
   ]
  },
  {
   "cell_type": "code",
   "execution_count": 13,
   "metadata": {
    "scrolled": true
   },
   "outputs": [
    {
     "name": "stdout",
     "output_type": "stream",
     "text": [
      "Running jobs:\n",
      "0 : [get_page_data(page=page, stream=stream, user_agent=USER_AGENT) for page in log_progress(range(25))]\n",
      "2 : [get_page_data(page=page, stream=stream, user_agent=USER_AGENT) for page in log_progress(range(25,50))]\n",
      "3 : [get_page_data(page=page, stream=stream, user_agent=USER_AGENT) for page in log_progress(range(50,75))]\n",
      "4 : [get_page_data(page=page, stream=stream, user_agent=USER_AGENT) for page in log_progress(range(75,100))]\n",
      "\n"
     ]
    }
   ],
   "source": [
    "jobs.status()"
   ]
  },
  {
   "cell_type": "code",
   "execution_count": 14,
   "metadata": {
    "scrolled": true
   },
   "outputs": [
    {
     "name": "stdout",
     "output_type": "stream",
     "text": [
      "Completed jobs:\n",
      "0 : [get_page_data(page=page, stream=stream, user_agent=USER_AGENT) for page in log_progress(range(25))]\n",
      "2 : [get_page_data(page=page, stream=stream, user_agent=USER_AGENT) for page in log_progress(range(25,50))]\n",
      "3 : [get_page_data(page=page, stream=stream, user_agent=USER_AGENT) for page in log_progress(range(50,75))]\n",
      "4 : [get_page_data(page=page, stream=stream, user_agent=USER_AGENT) for page in log_progress(range(75,100))]\n",
      "\n"
     ]
    }
   ],
   "source": [
    "jobs.status()"
   ]
  }
 ],
 "metadata": {
  "kernelspec": {
   "display_name": "Python 3",
   "language": "python",
   "name": "python3"
  },
  "language_info": {
   "codemirror_mode": {
    "name": "ipython",
    "version": 3
   },
   "file_extension": ".py",
   "mimetype": "text/x-python",
   "name": "python",
   "nbconvert_exporter": "python",
   "pygments_lexer": "ipython3",
   "version": "3.6.5"
  }
 },
 "nbformat": 4,
 "nbformat_minor": 2
}
