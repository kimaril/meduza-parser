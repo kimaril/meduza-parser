{
 "cells": [
  {
   "cell_type": "code",
   "execution_count": 140,
   "metadata": {},
   "outputs": [],
   "source": [
    "import pandas as pd\n",
    "import numpy as np\n",
    "import matplotlib.pyplot as plt\n",
    "import re\n",
    "import string\n",
    "import os\n",
    "from tqdm import tqdm_notebook\n",
    "import itertools\n",
    "\n",
    "from sklearn.feature_extraction.text import TfidfVectorizer\n",
    "from sklearn.svm import LinearSVC\n",
    "from sklearn.linear_model import LogisticRegression\n",
    "from sklearn.model_selection import train_test_split\n",
    "from nltk.tokenize import word_tokenize\n",
    "from pymystem3 import Mystem\n",
    "from sklearn.metrics.pairwise import cosine_similarity\n",
    "from sklearn.metrics import f1_score, accuracy_score, confusion_matrix\n",
    "\n",
    "%matplotlib inline"
   ]
  },
  {
   "cell_type": "code",
   "execution_count": 137,
   "metadata": {},
   "outputs": [],
   "source": [
    "def plot_confusion_matrix(cm, classes, title='Confusion matrix', cmap=plt.cm.Blues):\n",
    "    plt.figure(figsize=(15,15))\n",
    "    plt.imshow(cm, interpolation='nearest', cmap=cmap)\n",
    "    plt.title(title)\n",
    "    plt.colorbar()\n",
    "    tick_marks = np.arange(len(classes))\n",
    "    plt.xticks(tick_marks, classes, rotation=90)\n",
    "    plt.yticks(tick_marks, classes)\n",
    "\n",
    "    thresh = cm.max() / 2.\n",
    "    for i, j in itertools.product(range(cm.shape[0]), range(cm.shape[1])):\n",
    "        plt.text(j, i, cm[i, j],\n",
    "                 horizontalalignment=\"center\",\n",
    "                 color=\"white\" if cm[i, j] > thresh else \"black\")\n",
    "\n",
    "    plt.tight_layout()\n",
    "    plt.ylabel('True label')\n",
    "    plt.xlabel('Predicted label')\n",
    "    plt.show()"
   ]
  },
  {
   "cell_type": "code",
   "execution_count": 187,
   "metadata": {},
   "outputs": [],
   "source": [
    "df1 = pd.read_json(\"parser/rt_dump.json\", encoding=\"utf-8\")\n",
    "df2 = pd.read_json(\"parser/dni_dump.json\", encoding=\"utf-8\")\n",
    "df3 = pd.read_json(\"parser/meduza_dump.json\", encoding=\"utf-8\")"
   ]
  },
  {
   "cell_type": "code",
   "execution_count": 188,
   "metadata": {},
   "outputs": [],
   "source": [
    "df_full = pd.concat([df1, df2, df3], ignore_index=True)"
   ]
  },
  {
   "cell_type": "code",
   "execution_count": 189,
   "metadata": {},
   "outputs": [],
   "source": [
    "df_full.to_json(\"news_dump_fix.json\")"
   ]
  },
  {
   "cell_type": "code",
   "execution_count": 190,
   "metadata": {},
   "outputs": [],
   "source": [
    "df_full = pd.read_json(\"news_dump_fix.json\", encoding=\"utf-8\")"
   ]
  },
  {
   "cell_type": "code",
   "execution_count": 191,
   "metadata": {},
   "outputs": [],
   "source": [
    "df_full=df_full.reset_index(drop=True)"
   ]
  },
  {
   "cell_type": "code",
   "execution_count": 192,
   "metadata": {},
   "outputs": [
    {
     "data": {
      "text/plain": [
       "12"
      ]
     },
     "execution_count": 192,
     "metadata": {},
     "output_type": "execute_result"
    }
   ],
   "source": [
    "df_full[df_full[\"body\"]==\"\"].shape[0]"
   ]
  },
  {
   "cell_type": "code",
   "execution_count": 193,
   "metadata": {},
   "outputs": [
    {
     "data": {
      "text/html": [
       "<div>\n",
       "<style scoped>\n",
       "    .dataframe tbody tr th:only-of-type {\n",
       "        vertical-align: middle;\n",
       "    }\n",
       "\n",
       "    .dataframe tbody tr th {\n",
       "        vertical-align: top;\n",
       "    }\n",
       "\n",
       "    .dataframe thead th {\n",
       "        text-align: right;\n",
       "    }\n",
       "</style>\n",
       "<table border=\"1\" class=\"dataframe\">\n",
       "  <thead>\n",
       "    <tr style=\"text-align: right;\">\n",
       "      <th></th>\n",
       "      <th>body</th>\n",
       "      <th>id</th>\n",
       "      <th>source</th>\n",
       "      <th>title</th>\n",
       "    </tr>\n",
       "  </thead>\n",
       "  <tbody>\n",
       "    <tr>\n",
       "      <th>206</th>\n",
       "      <td></td>\n",
       "      <td>https://meduza.io/shapito/2018/10/30/vse-kradu...</td>\n",
       "      <td>Meduza</td>\n",
       "      <td>Все крадут картонную Ольгу Бузову из «Пятерочк...</td>\n",
       "    </tr>\n",
       "    <tr>\n",
       "      <th>286</th>\n",
       "      <td></td>\n",
       "      <td>https://meduza.io/short/2018/10/29/proschanie-...</td>\n",
       "      <td>Meduza</td>\n",
       "      <td>Прощание с Николаем Караченцовым в «Ленкоме». ...</td>\n",
       "    </tr>\n",
       "    <tr>\n",
       "      <th>761</th>\n",
       "      <td></td>\n",
       "      <td>https://dni.ru/society/2018/10/30/410326.html</td>\n",
       "      <td>Dni.ru</td>\n",
       "      <td>\\t\\t\\t\\t\\t\\t\\tАмериканский подрывник хотел уб...</td>\n",
       "    </tr>\n",
       "    <tr>\n",
       "      <th>765</th>\n",
       "      <td></td>\n",
       "      <td>https://dni.ru/regions/2018/10/30/410320.html</td>\n",
       "      <td>Dni.ru</td>\n",
       "      <td>\\t\\t\\t\\t\\t\\t\\tПоимка террористов в Татарстане ...</td>\n",
       "    </tr>\n",
       "    <tr>\n",
       "      <th>819</th>\n",
       "      <td></td>\n",
       "      <td>https://dni.ru/showbiz/2018/10/29/410274.html</td>\n",
       "      <td>Dni.ru</td>\n",
       "      <td>\\t\\t\\t\\t\\t\\t\\tКомпозитор Бородин погиб в ДТП\\t...</td>\n",
       "    </tr>\n",
       "    <tr>\n",
       "      <th>844</th>\n",
       "      <td></td>\n",
       "      <td>https://dni.ru/society/2018/10/29/410248.html</td>\n",
       "      <td>Dni.ru</td>\n",
       "      <td>\\t\\t\\t\\t\\t\\t\\tВ Москве памятники покраснели из...</td>\n",
       "    </tr>\n",
       "    <tr>\n",
       "      <th>970</th>\n",
       "      <td></td>\n",
       "      <td>https://meduza.io/short/2018/11/12/raketnyy-ob...</td>\n",
       "      <td>Meduza</td>\n",
       "      <td>Ракетный обстрел Израиля из сектора Газа. Фото...</td>\n",
       "    </tr>\n",
       "    <tr>\n",
       "      <th>1024</th>\n",
       "      <td></td>\n",
       "      <td>https://meduza.io/short/2018/11/11/prezident-r...</td>\n",
       "      <td>Meduza</td>\n",
       "      <td>Президент России у памятника солдатам Русского...</td>\n",
       "    </tr>\n",
       "    <tr>\n",
       "      <th>1025</th>\n",
       "      <td></td>\n",
       "      <td>https://meduza.io/short/2018/11/11/prezident-f...</td>\n",
       "      <td>Meduza</td>\n",
       "      <td>Президент Франции Эмманюэль Макрон и канцлер Ф...</td>\n",
       "    </tr>\n",
       "    <tr>\n",
       "      <th>1026</th>\n",
       "      <td></td>\n",
       "      <td>https://meduza.io/short/2018/11/11/fanaty-lest...</td>\n",
       "      <td>Meduza</td>\n",
       "      <td>Фанаты «Лестера» простились с погибшим владель...</td>\n",
       "    </tr>\n",
       "    <tr>\n",
       "      <th>1183</th>\n",
       "      <td></td>\n",
       "      <td>https://meduza.io/short/2018/11/07/eto-moy-kri...</td>\n",
       "      <td>Meduza</td>\n",
       "      <td>«Это мой крик души». Зураб Церетели открыл в К...</td>\n",
       "    </tr>\n",
       "    <tr>\n",
       "      <th>1263</th>\n",
       "      <td></td>\n",
       "      <td>https://meduza.io/short/2018/11/05/vy-kopite-n...</td>\n",
       "      <td>Meduza</td>\n",
       "      <td>Вы копите на пенсию? А друзьям в долг даете? В...</td>\n",
       "    </tr>\n",
       "  </tbody>\n",
       "</table>\n",
       "</div>"
      ],
      "text/plain": [
       "     body                                                 id  source  \\\n",
       "206        https://meduza.io/shapito/2018/10/30/vse-kradu...  Meduza   \n",
       "286        https://meduza.io/short/2018/10/29/proschanie-...  Meduza   \n",
       "761            https://dni.ru/society/2018/10/30/410326.html  Dni.ru   \n",
       "765            https://dni.ru/regions/2018/10/30/410320.html  Dni.ru   \n",
       "819            https://dni.ru/showbiz/2018/10/29/410274.html  Dni.ru   \n",
       "844            https://dni.ru/society/2018/10/29/410248.html  Dni.ru   \n",
       "970        https://meduza.io/short/2018/11/12/raketnyy-ob...  Meduza   \n",
       "1024       https://meduza.io/short/2018/11/11/prezident-r...  Meduza   \n",
       "1025       https://meduza.io/short/2018/11/11/prezident-f...  Meduza   \n",
       "1026       https://meduza.io/short/2018/11/11/fanaty-lest...  Meduza   \n",
       "1183       https://meduza.io/short/2018/11/07/eto-moy-kri...  Meduza   \n",
       "1263       https://meduza.io/short/2018/11/05/vy-kopite-n...  Meduza   \n",
       "\n",
       "                                                  title  \n",
       "206   Все крадут картонную Ольгу Бузову из «Пятерочк...  \n",
       "286   Прощание с Николаем Караченцовым в «Ленкоме». ...  \n",
       "761   \\t\\t\\t\\t\\t\\t\\tАмериканский подрывник хотел уб...  \n",
       "765   \\t\\t\\t\\t\\t\\t\\tПоимка террористов в Татарстане ...  \n",
       "819   \\t\\t\\t\\t\\t\\t\\tКомпозитор Бородин погиб в ДТП\\t...  \n",
       "844   \\t\\t\\t\\t\\t\\t\\tВ Москве памятники покраснели из...  \n",
       "970   Ракетный обстрел Израиля из сектора Газа. Фото...  \n",
       "1024  Президент России у памятника солдатам Русского...  \n",
       "1025  Президент Франции Эмманюэль Макрон и канцлер Ф...  \n",
       "1026  Фанаты «Лестера» простились с погибшим владель...  \n",
       "1183  «Это мой крик души». Зураб Церетели открыл в К...  \n",
       "1263  Вы копите на пенсию? А друзьям в долг даете? В...  "
      ]
     },
     "execution_count": 193,
     "metadata": {},
     "output_type": "execute_result"
    }
   ],
   "source": [
    "df_full[df_full[\"body\"]==\"\"]"
   ]
  },
  {
   "cell_type": "code",
   "execution_count": 194,
   "metadata": {},
   "outputs": [
    {
     "data": {
      "text/plain": [
       "['https://meduza.io/shapito/2018/10/30/vse-kradut-kartonnuyu-olgu-buzovu-iz-pyaterochki-nu-ladno',\n",
       " 'https://meduza.io/short/2018/10/29/proschanie-s-nikolaem-karachentsovym-v-lenkome-fotografiya',\n",
       " 'https://dni.ru/society/2018/10/30/410326.html',\n",
       " 'https://dni.ru/regions/2018/10/30/410320.html',\n",
       " 'https://dni.ru/showbiz/2018/10/29/410274.html',\n",
       " 'https://dni.ru/society/2018/10/29/410248.html',\n",
       " 'https://meduza.io/short/2018/11/12/raketnyy-obstrel-izrailya-iz-sektora-gaza-fotografiya',\n",
       " 'https://meduza.io/short/2018/11/11/prezident-rossii-u-pamyatnika-soldatam-russkogo-ekspeditsionnogo-korpusa-vo-frantsii-fotografiya-s-tseremonii-pamyati-zhertv-pervoy-mirovoy',\n",
       " 'https://meduza.io/short/2018/11/11/prezident-frantsii-emmanuel-makron-i-kantsler-frg-otmechayut-100-letie-okonchaniya-pervoy-mirovoy-fotografiya',\n",
       " 'https://meduza.io/short/2018/11/11/fanaty-lestera-prostilis-s-pogibshim-vladeltsem-komandy-fotografiya',\n",
       " 'https://meduza.io/short/2018/11/07/eto-moy-krik-dushi-zurab-tsereteli-otkryl-v-kazani-pamyatnik-rudolfu-nureevu',\n",
       " 'https://meduza.io/short/2018/11/05/vy-kopite-na-pensiyu-a-druzyam-v-dolg-daete-vot-kak-otvechayut-chitateli-meduzy']"
      ]
     },
     "execution_count": 194,
     "metadata": {},
     "output_type": "execute_result"
    }
   ],
   "source": [
    "df_full[df_full[\"body\"]==\"\"][\"id\"].tolist()"
   ]
  },
  {
   "cell_type": "markdown",
   "metadata": {},
   "source": [
    "Это короткие материалы медузы, в них обычно главное не текст, а картинка/видео с описанием"
   ]
  },
  {
   "cell_type": "code",
   "execution_count": 195,
   "metadata": {},
   "outputs": [
    {
     "data": {
      "text/html": [
       "<div>\n",
       "<style scoped>\n",
       "    .dataframe tbody tr th:only-of-type {\n",
       "        vertical-align: middle;\n",
       "    }\n",
       "\n",
       "    .dataframe tbody tr th {\n",
       "        vertical-align: top;\n",
       "    }\n",
       "\n",
       "    .dataframe thead th {\n",
       "        text-align: right;\n",
       "    }\n",
       "</style>\n",
       "<table border=\"1\" class=\"dataframe\">\n",
       "  <thead>\n",
       "    <tr style=\"text-align: right;\">\n",
       "      <th></th>\n",
       "      <th>body</th>\n",
       "      <th>id</th>\n",
       "      <th>source</th>\n",
       "      <th>title</th>\n",
       "      <th>label</th>\n",
       "    </tr>\n",
       "  </thead>\n",
       "  <tbody>\n",
       "    <tr>\n",
       "      <th>0</th>\n",
       "      <td>Клуб Континентальной хоккейной лиги (КХЛ) «...</td>\n",
       "      <td>https://russian.rt.com/sport/news/572018-hokke...</td>\n",
       "      <td>RT</td>\n",
       "      <td>Хоккейный «Спартак» начнёт следующий сезон на ...</td>\n",
       "      <td>0</td>\n",
       "    </tr>\n",
       "    <tr>\n",
       "      <th>1</th>\n",
       "      <td>Генеральный прокурор Украины Юрий Луценко за...</td>\n",
       "      <td>https://russian.rt.com/ussr/news/572020-lucenk...</td>\n",
       "      <td>RT</td>\n",
       "      <td>Луценко заявил об отсутствии результатов рассл...</td>\n",
       "      <td>0</td>\n",
       "    </tr>\n",
       "    <tr>\n",
       "      <th>2</th>\n",
       "      <td>После матча 14-го тура Российской премьер-ли...</td>\n",
       "      <td>https://russian.rt.com/sport/news/572025-konon...</td>\n",
       "      <td>RT</td>\n",
       "      <td>Кононов рассказал, возглавит ли он «Спартак»</td>\n",
       "      <td>0</td>\n",
       "    </tr>\n",
       "    <tr>\n",
       "      <th>3</th>\n",
       "      <td>Пожарным удалось ликвидировать открытое горени...</td>\n",
       "      <td>https://russian.rt.com/russia/news/572122-mchs...</td>\n",
       "      <td>RT</td>\n",
       "      <td>Пожарные ликвидировали открытое горение в гипе...</td>\n",
       "      <td>0</td>\n",
       "    </tr>\n",
       "    <tr>\n",
       "      <th>4</th>\n",
       "      <td>В Новой Каледонии — заморской территории Фра...</td>\n",
       "      <td>https://meduza.io/news/2018/11/04/storonniki-n...</td>\n",
       "      <td>Meduza</td>\n",
       "      <td>Сторонники независимости от Франции проиграли ...</td>\n",
       "      <td>0</td>\n",
       "    </tr>\n",
       "  </tbody>\n",
       "</table>\n",
       "</div>"
      ],
      "text/plain": [
       "                                                body  \\\n",
       "0  Клуб Континентальной хоккейной лиги (КХЛ) «...   \n",
       "1  Генеральный прокурор Украины Юрий Луценко за...   \n",
       "2  После матча 14-го тура Российской премьер-ли...   \n",
       "3  Пожарным удалось ликвидировать открытое горени...   \n",
       "4  В Новой Каледонии — заморской территории Фра...   \n",
       "\n",
       "                                                  id  source  \\\n",
       "0  https://russian.rt.com/sport/news/572018-hokke...      RT   \n",
       "1  https://russian.rt.com/ussr/news/572020-lucenk...      RT   \n",
       "2  https://russian.rt.com/sport/news/572025-konon...      RT   \n",
       "3  https://russian.rt.com/russia/news/572122-mchs...      RT   \n",
       "4  https://meduza.io/news/2018/11/04/storonniki-n...  Meduza   \n",
       "\n",
       "                                               title  label  \n",
       "0  Хоккейный «Спартак» начнёт следующий сезон на ...      0  \n",
       "1  Луценко заявил об отсутствии результатов рассл...      0  \n",
       "2       Кононов рассказал, возглавит ли он «Спартак»      0  \n",
       "3  Пожарные ликвидировали открытое горение в гипе...      0  \n",
       "4  Сторонники независимости от Франции проиграли ...      0  "
      ]
     },
     "execution_count": 195,
     "metadata": {},
     "output_type": "execute_result"
    }
   ],
   "source": [
    "df_full = df_full[df_full[\"body\"]!=\"\"]\n",
    "df_full[\"label\"] = df_full[\"source\"].apply(lambda x : 1 if x==\"Dni.ru\" else 0)\n",
    "df_full.head()"
   ]
  },
  {
   "cell_type": "code",
   "execution_count": 196,
   "metadata": {},
   "outputs": [],
   "source": [
    "df_full[\"len\"] = df_full[\"body\"].apply(lambda x : len(x))"
   ]
  },
  {
   "cell_type": "code",
   "execution_count": 197,
   "metadata": {},
   "outputs": [
    {
     "data": {
      "image/png": "[encoded data removed]",
      "text/plain": [
       "<Figure size 720x720 with 1 Axes>"
      ]
     },
     "metadata": {},
     "output_type": "display_data"
    }
   ],
   "source": [
    "fig = plt.figure(figsize=(10, 10))\n",
    "plt.hist(df_full[\"source\"].tolist(), bins=3, color=\"tab:purple\")\n",
    "plt.xlabel(\"Source\")\n",
    "plt.ylabel(\"Number of articles\")\n",
    "plt.show()"
   ]
  },
  {
   "cell_type": "code",
   "execution_count": 198,
   "metadata": {},
   "outputs": [
    {
     "data": {
      "image/png": "[encoded data removed]",
      "text/plain": [
       "<Figure size 720x720 with 1 Axes>"
      ]
     },
     "metadata": {},
     "output_type": "display_data"
    }
   ],
   "source": [
    "fig = plt.figure(figsize=(10, 10)) \n",
    "plt.xlabel('Article length')\n",
    "plt.ylabel('Number of articles')\n",
    "plt.hist(df_full[\"len\"].tolist(), bins=40, range=(0, 2000), color=\"teal\")\n",
    "plt.show()"
   ]
  },
  {
   "cell_type": "markdown",
   "metadata": {},
   "source": [
    "## Data preprocessing"
   ]
  },
  {
   "cell_type": "code",
   "execution_count": 199,
   "metadata": {},
   "outputs": [],
   "source": [
    "table = str.maketrans('', '', string.punctuation)"
   ]
  },
  {
   "cell_type": "code",
   "execution_count": 200,
   "metadata": {},
   "outputs": [],
   "source": [
    "import nltk"
   ]
  },
  {
   "cell_type": "code",
   "execution_count": 201,
   "metadata": {},
   "outputs": [],
   "source": [
    "m = Mystem()"
   ]
  },
  {
   "cell_type": "code",
   "execution_count": 202,
   "metadata": {},
   "outputs": [],
   "source": [
    "def beautify(text):\n",
    "    pbar.update(1)\n",
    "    text = re.sub(r'http\\S+', '', text)\n",
    "    text = re.sub(r\"#(\\w+)\", '', text)\n",
    "    text = re.sub(r\"@(\\w+)\", '', text)\n",
    "    text = re.sub(r\"–\", '', text)\n",
    "    text = re.sub(r\"[«»]\", '', text)\n",
    "    words = text.split()\n",
    "    stripped = \" \".join([w.translate(table).lower() for w in words])\n",
    "    stemmed = m.lemmatize(stripped)\n",
    "    return \"\".join(stemmed)"
   ]
  },
  {
   "cell_type": "code",
   "execution_count": 203,
   "metadata": {},
   "outputs": [
    {
     "data": {
      "text/plain": [
       "'Продолжение: Акинфеев рассказал о дедовщине в ЦСКА Игорь Акинфеев признался,\\r\\nчто думал о завершении выступлений за национальную команду после ЧМ-2018, но не\\r\\nбуквально с финальным свистком. По словам спортсмена, точку в этом\\r\\nвопросе поставило обследование в Германии. Прощай, Россия: Игорь Акинфеев завершил карьеру Черчесов оправдался за \"отставку\" Акинфеева и Смолова \"Мы основательно говорили\\r\\nс доктором и пришли к выводу, что нельзя играть на два фронта. Многие говорят, почему я ждал два месяца – все из-за\\r\\nобследования, после него я поставил жирную точку в своей карьере в сборной\", – рассказал Акинфеев в программе \"Футбол России\"\\r\\nна \"России 24\". Футболист отметил, что не жалеет о своем решении. \"Я играл в сборной 15 лет, они были\\r\\nхорошими и плохими, но это срок. Для меня важно, что такую долгую карьеру я\\r\\nпровел в сборной\", – добавил голкипер. Также он признался, что не смотрит\\r\\nфутбол по телевизору, лишь некоторые сокращенные обзоры, чтобы быть в курсе\\r\\nпроисходящего.         Посмотреть эту публикацию в Instagram            Публикация от Игорь Акинфеев (@akinfeevigor) 28 Июл 2018 в 12:06 PDT  Публикация от Игорь Акинфеев (@akinfeevigor) 28 Июл 2018 в 12:06 PDT Игорь Акинфеев отметил: ему еще хочется сыграть во многих матчах. И не важно, будет ли это чемпионат\\r\\nили Кубок России, либо Лига чемпионов. \"Я хочу оставить свой след в армейском\\r\\nклубе как можно дольше\", – пояснил он. Вспоминая о ЧМ-2018, футболист\\r\\nрассказал, что у него была одна мысль – сыграть достойно на\\r\\nрадость всей стране. \"Все видели, как гуляет Никольская и вся Россия, это было\\r\\nсплочение\", – добавил Акинфеев.'"
      ]
     },
     "execution_count": 203,
     "metadata": {},
     "output_type": "execute_result"
    }
   ],
   "source": [
    "df_full[df_full.source==\"Dni.ru\"][\"body\"].tolist()[0]"
   ]
  },
  {
   "cell_type": "code",
   "execution_count": 204,
   "metadata": {},
   "outputs": [
    {
     "data": {
      "text/plain": [
       "'продолжение акинфей рассказывать о дедовщина в цска игорь акинфей признаваться что думать о завершение выступление за национальный команда после чм2018 но не буквально с финальный свисток по слово спортсмен точка в этот вопрос поставлять обследование в германия прощать россия игорь акинфей завершать карьера черчесов оправдываться за отставка акинфеев и смолова мы основательно говорить с доктор и приходить к вывод что нельзя играть на два фронт многие говорить почему я ждать два месяц все изза обследование после он я поставлять жирный точка в свой карьера в сборная рассказывать акинфей в программа футбол россия на россия 24 футболист отмечать что не жалеть о свой решение я играть в сборная 15 год они быть хороший и плохой но это срок для я важный что такой долгий карьера я проводить в сборная добавлять голкипер также он признаваться что не смотреть футбол по телевизор лишь некоторый сокращенный обзор чтобы быть в курс происходить посмотреть этот публикация в instagram публикация от игорь акинфей  28 июла 2018 в 1206 pdt публикация от игорь акинфей  28 июла 2018 в 1206 pdt игорь акинфей отмечать он еще хотеться сыграть во многий матч и не важно быть ли это чемпионат или кубок россия либо лига чемпион я хотеть оставлять свой след в армейский клуб как можно долго пояснять он вспоминать о чм2018 футболист рассказывать что у он быть один мысль сыграть достойно на радость весь страна все видеть как гулять никольская и весь россия это быть сплочение добавлять акинфей\\n'"
      ]
     },
     "execution_count": 204,
     "metadata": {},
     "output_type": "execute_result"
    }
   ],
   "source": [
    "beautify(df_full[df_full.source==\"Dni.ru\"][\"body\"].tolist()[0])"
   ]
  },
  {
   "cell_type": "code",
   "execution_count": 205,
   "metadata": {},
   "outputs": [
    {
     "data": {
      "application/vnd.jupyter.widget-view+json": {
       "model_id": "b4844d98c19543f78c71eb8be84ed5af",
       "version_major": 2,
       "version_minor": 0
      },
      "text/plain": [
       "HBox(children=(IntProgress(value=0, max=1288), HTML(value='')))"
      ]
     },
     "metadata": {},
     "output_type": "display_data"
    }
   ],
   "source": [
    "pbar = tqdm_notebook(total = df_full.shape[0])"
   ]
  },
  {
   "cell_type": "code",
   "execution_count": 206,
   "metadata": {},
   "outputs": [],
   "source": [
    "df_full[\"body_norm\"] = df_full[\"body\"].apply(beautify)"
   ]
  },
  {
   "cell_type": "code",
   "execution_count": 208,
   "metadata": {},
   "outputs": [
    {
     "data": {
      "text/html": [
       "<div>\n",
       "<style scoped>\n",
       "    .dataframe tbody tr th:only-of-type {\n",
       "        vertical-align: middle;\n",
       "    }\n",
       "\n",
       "    .dataframe tbody tr th {\n",
       "        vertical-align: top;\n",
       "    }\n",
       "\n",
       "    .dataframe thead th {\n",
       "        text-align: right;\n",
       "    }\n",
       "</style>\n",
       "<table border=\"1\" class=\"dataframe\">\n",
       "  <thead>\n",
       "    <tr style=\"text-align: right;\">\n",
       "      <th></th>\n",
       "      <th>body</th>\n",
       "      <th>id</th>\n",
       "      <th>source</th>\n",
       "      <th>title</th>\n",
       "      <th>label</th>\n",
       "      <th>len</th>\n",
       "      <th>body_norm</th>\n",
       "    </tr>\n",
       "  </thead>\n",
       "  <tbody>\n",
       "    <tr>\n",
       "      <th>0</th>\n",
       "      <td>Клуб Континентальной хоккейной лиги (КХЛ) «...</td>\n",
       "      <td>https://russian.rt.com/sport/news/572018-hokke...</td>\n",
       "      <td>RT</td>\n",
       "      <td>Хоккейный «Спартак» начнёт следующий сезон на ...</td>\n",
       "      <td>0</td>\n",
       "      <td>1171</td>\n",
       "      <td>клуб континентальный хоккейный лига кхл спарта...</td>\n",
       "    </tr>\n",
       "    <tr>\n",
       "      <th>1</th>\n",
       "      <td>Генеральный прокурор Украины Юрий Луценко за...</td>\n",
       "      <td>https://russian.rt.com/ussr/news/572020-lucenk...</td>\n",
       "      <td>RT</td>\n",
       "      <td>Луценко заявил об отсутствии результатов рассл...</td>\n",
       "      <td>0</td>\n",
       "      <td>1078</td>\n",
       "      <td>генеральный прокурор украина юрий луценко заяв...</td>\n",
       "    </tr>\n",
       "    <tr>\n",
       "      <th>2</th>\n",
       "      <td>После матча 14-го тура Российской премьер-ли...</td>\n",
       "      <td>https://russian.rt.com/sport/news/572025-konon...</td>\n",
       "      <td>RT</td>\n",
       "      <td>Кононов рассказал, возглавит ли он «Спартак»</td>\n",
       "      <td>0</td>\n",
       "      <td>1071</td>\n",
       "      <td>после матч 14го тур российский премьерлига с м...</td>\n",
       "    </tr>\n",
       "    <tr>\n",
       "      <th>3</th>\n",
       "      <td>Пожарным удалось ликвидировать открытое горени...</td>\n",
       "      <td>https://russian.rt.com/russia/news/572122-mchs...</td>\n",
       "      <td>RT</td>\n",
       "      <td>Пожарные ликвидировали открытое горение в гипе...</td>\n",
       "      <td>0</td>\n",
       "      <td>906</td>\n",
       "      <td>пожарный удаваться ликвидировать открытый горе...</td>\n",
       "    </tr>\n",
       "    <tr>\n",
       "      <th>4</th>\n",
       "      <td>В Новой Каледонии — заморской территории Фра...</td>\n",
       "      <td>https://meduza.io/news/2018/11/04/storonniki-n...</td>\n",
       "      <td>Meduza</td>\n",
       "      <td>Сторонники независимости от Франции проиграли ...</td>\n",
       "      <td>0</td>\n",
       "      <td>705</td>\n",
       "      <td>в новый каледония — заморский территория франц...</td>\n",
       "    </tr>\n",
       "  </tbody>\n",
       "</table>\n",
       "</div>"
      ],
      "text/plain": [
       "                                                body  \\\n",
       "0  Клуб Континентальной хоккейной лиги (КХЛ) «...   \n",
       "1  Генеральный прокурор Украины Юрий Луценко за...   \n",
       "2  После матча 14-го тура Российской премьер-ли...   \n",
       "3  Пожарным удалось ликвидировать открытое горени...   \n",
       "4  В Новой Каледонии — заморской территории Фра...   \n",
       "\n",
       "                                                  id  source  \\\n",
       "0  https://russian.rt.com/sport/news/572018-hokke...      RT   \n",
       "1  https://russian.rt.com/ussr/news/572020-lucenk...      RT   \n",
       "2  https://russian.rt.com/sport/news/572025-konon...      RT   \n",
       "3  https://russian.rt.com/russia/news/572122-mchs...      RT   \n",
       "4  https://meduza.io/news/2018/11/04/storonniki-n...  Meduza   \n",
       "\n",
       "                                               title  label   len  \\\n",
       "0  Хоккейный «Спартак» начнёт следующий сезон на ...      0  1171   \n",
       "1  Луценко заявил об отсутствии результатов рассл...      0  1078   \n",
       "2       Кононов рассказал, возглавит ли он «Спартак»      0  1071   \n",
       "3  Пожарные ликвидировали открытое горение в гипе...      0   906   \n",
       "4  Сторонники независимости от Франции проиграли ...      0   705   \n",
       "\n",
       "                                           body_norm  \n",
       "0  клуб континентальный хоккейный лига кхл спарта...  \n",
       "1  генеральный прокурор украина юрий луценко заяв...  \n",
       "2  после матч 14го тур российский премьерлига с м...  \n",
       "3  пожарный удаваться ликвидировать открытый горе...  \n",
       "4  в новый каледония — заморский территория франц...  "
      ]
     },
     "execution_count": 208,
     "metadata": {},
     "output_type": "execute_result"
    }
   ],
   "source": [
    "df_full.head()"
   ]
  },
  {
   "cell_type": "code",
   "execution_count": 209,
   "metadata": {},
   "outputs": [
    {
     "data": {
      "application/vnd.jupyter.widget-view+json": {
       "model_id": "2716a0df50fa4f72abafc5ebd45b38e5",
       "version_major": 2,
       "version_minor": 0
      },
      "text/plain": [
       "HBox(children=(IntProgress(value=0, max=1288), HTML(value='')))"
      ]
     },
     "metadata": {},
     "output_type": "display_data"
    }
   ],
   "source": [
    "pbar = tqdm_notebook(total = df_full.shape[0])\n",
    "df_full[\"title_norm\"] = df_full[\"title\"].apply(beautify)"
   ]
  },
  {
   "cell_type": "code",
   "execution_count": 210,
   "metadata": {},
   "outputs": [
    {
     "data": {
      "text/html": [
       "<div>\n",
       "<style scoped>\n",
       "    .dataframe tbody tr th:only-of-type {\n",
       "        vertical-align: middle;\n",
       "    }\n",
       "\n",
       "    .dataframe tbody tr th {\n",
       "        vertical-align: top;\n",
       "    }\n",
       "\n",
       "    .dataframe thead th {\n",
       "        text-align: right;\n",
       "    }\n",
       "</style>\n",
       "<table border=\"1\" class=\"dataframe\">\n",
       "  <thead>\n",
       "    <tr style=\"text-align: right;\">\n",
       "      <th></th>\n",
       "      <th>body</th>\n",
       "      <th>id</th>\n",
       "      <th>source</th>\n",
       "      <th>title</th>\n",
       "      <th>label</th>\n",
       "      <th>len</th>\n",
       "      <th>body_norm</th>\n",
       "      <th>title_norm</th>\n",
       "    </tr>\n",
       "  </thead>\n",
       "  <tbody>\n",
       "    <tr>\n",
       "      <th>0</th>\n",
       "      <td>Клуб Континентальной хоккейной лиги (КХЛ) «...</td>\n",
       "      <td>https://russian.rt.com/sport/news/572018-hokke...</td>\n",
       "      <td>RT</td>\n",
       "      <td>Хоккейный «Спартак» начнёт следующий сезон на ...</td>\n",
       "      <td>0</td>\n",
       "      <td>1171</td>\n",
       "      <td>клуб континентальный хоккейный лига кхл спарта...</td>\n",
       "      <td>хоккейный спартак начинать следующий сезон на ...</td>\n",
       "    </tr>\n",
       "    <tr>\n",
       "      <th>1</th>\n",
       "      <td>Генеральный прокурор Украины Юрий Луценко за...</td>\n",
       "      <td>https://russian.rt.com/ussr/news/572020-lucenk...</td>\n",
       "      <td>RT</td>\n",
       "      <td>Луценко заявил об отсутствии результатов рассл...</td>\n",
       "      <td>0</td>\n",
       "      <td>1078</td>\n",
       "      <td>генеральный прокурор украина юрий луценко заяв...</td>\n",
       "      <td>луценко заявлять об отсутствие результат рассл...</td>\n",
       "    </tr>\n",
       "    <tr>\n",
       "      <th>2</th>\n",
       "      <td>После матча 14-го тура Российской премьер-ли...</td>\n",
       "      <td>https://russian.rt.com/sport/news/572025-konon...</td>\n",
       "      <td>RT</td>\n",
       "      <td>Кононов рассказал, возглавит ли он «Спартак»</td>\n",
       "      <td>0</td>\n",
       "      <td>1071</td>\n",
       "      <td>после матч 14го тур российский премьерлига с м...</td>\n",
       "      <td>кононов рассказывать возглавлять ли он спартак\\n</td>\n",
       "    </tr>\n",
       "    <tr>\n",
       "      <th>3</th>\n",
       "      <td>Пожарным удалось ликвидировать открытое горени...</td>\n",
       "      <td>https://russian.rt.com/russia/news/572122-mchs...</td>\n",
       "      <td>RT</td>\n",
       "      <td>Пожарные ликвидировали открытое горение в гипе...</td>\n",
       "      <td>0</td>\n",
       "      <td>906</td>\n",
       "      <td>пожарный удаваться ликвидировать открытый горе...</td>\n",
       "      <td>пожарный ликвидировать открытый горение в гипе...</td>\n",
       "    </tr>\n",
       "    <tr>\n",
       "      <th>4</th>\n",
       "      <td>В Новой Каледонии — заморской территории Фра...</td>\n",
       "      <td>https://meduza.io/news/2018/11/04/storonniki-n...</td>\n",
       "      <td>Meduza</td>\n",
       "      <td>Сторонники независимости от Франции проиграли ...</td>\n",
       "      <td>0</td>\n",
       "      <td>705</td>\n",
       "      <td>в новый каледония — заморский территория франц...</td>\n",
       "      <td>сторонник независимость от франция проигрывать...</td>\n",
       "    </tr>\n",
       "  </tbody>\n",
       "</table>\n",
       "</div>"
      ],
      "text/plain": [
       "                                                body  \\\n",
       "0  Клуб Континентальной хоккейной лиги (КХЛ) «...   \n",
       "1  Генеральный прокурор Украины Юрий Луценко за...   \n",
       "2  После матча 14-го тура Российской премьер-ли...   \n",
       "3  Пожарным удалось ликвидировать открытое горени...   \n",
       "4  В Новой Каледонии — заморской территории Фра...   \n",
       "\n",
       "                                                  id  source  \\\n",
       "0  https://russian.rt.com/sport/news/572018-hokke...      RT   \n",
       "1  https://russian.rt.com/ussr/news/572020-lucenk...      RT   \n",
       "2  https://russian.rt.com/sport/news/572025-konon...      RT   \n",
       "3  https://russian.rt.com/russia/news/572122-mchs...      RT   \n",
       "4  https://meduza.io/news/2018/11/04/storonniki-n...  Meduza   \n",
       "\n",
       "                                               title  label   len  \\\n",
       "0  Хоккейный «Спартак» начнёт следующий сезон на ...      0  1171   \n",
       "1  Луценко заявил об отсутствии результатов рассл...      0  1078   \n",
       "2       Кононов рассказал, возглавит ли он «Спартак»      0  1071   \n",
       "3  Пожарные ликвидировали открытое горение в гипе...      0   906   \n",
       "4  Сторонники независимости от Франции проиграли ...      0   705   \n",
       "\n",
       "                                           body_norm  \\\n",
       "0  клуб континентальный хоккейный лига кхл спарта...   \n",
       "1  генеральный прокурор украина юрий луценко заяв...   \n",
       "2  после матч 14го тур российский премьерлига с м...   \n",
       "3  пожарный удаваться ликвидировать открытый горе...   \n",
       "4  в новый каледония — заморский территория франц...   \n",
       "\n",
       "                                          title_norm  \n",
       "0  хоккейный спартак начинать следующий сезон на ...  \n",
       "1  луценко заявлять об отсутствие результат рассл...  \n",
       "2   кононов рассказывать возглавлять ли он спартак\\n  \n",
       "3  пожарный ликвидировать открытый горение в гипе...  \n",
       "4  сторонник независимость от франция проигрывать...  "
      ]
     },
     "execution_count": 210,
     "metadata": {},
     "output_type": "execute_result"
    }
   ],
   "source": [
    "df_full.head()"
   ]
  },
  {
   "cell_type": "code",
   "execution_count": 211,
   "metadata": {},
   "outputs": [],
   "source": [
    "bodys = df_full[\"body_norm\"].tolist()\n",
    "titles = df_full[\"title_norm\"].tolist()"
   ]
  },
  {
   "cell_type": "code",
   "execution_count": 212,
   "metadata": {},
   "outputs": [],
   "source": [
    "tfidf = TfidfVectorizer(min_df=0.002, max_df=0.9, ngram_range=(1,2))"
   ]
  },
  {
   "cell_type": "code",
   "execution_count": 213,
   "metadata": {},
   "outputs": [],
   "source": [
    "bodys_tfidf = tfidf.fit_transform(bodys)"
   ]
  },
  {
   "cell_type": "code",
   "execution_count": 214,
   "metadata": {},
   "outputs": [
    {
     "data": {
      "text/plain": [
       "(1288, 16753)"
      ]
     },
     "execution_count": 214,
     "metadata": {},
     "output_type": "execute_result"
    }
   ],
   "source": [
    "bodys_tfidf.shape"
   ]
  },
  {
   "cell_type": "code",
   "execution_count": 215,
   "metadata": {},
   "outputs": [],
   "source": [
    "titles_tfidf = tfidf.transform(titles)"
   ]
  },
  {
   "cell_type": "code",
   "execution_count": 216,
   "metadata": {},
   "outputs": [
    {
     "data": {
      "text/plain": [
       "(1288, 16753)"
      ]
     },
     "execution_count": 216,
     "metadata": {},
     "output_type": "execute_result"
    }
   ],
   "source": [
    "titles_tfidf.shape"
   ]
  },
  {
   "cell_type": "markdown",
   "metadata": {},
   "source": [
    "Сделай дамп обеих матриц"
   ]
  },
  {
   "cell_type": "code",
   "execution_count": 217,
   "metadata": {},
   "outputs": [],
   "source": [
    "np.save(\"titles_tfidf\", titles_tfidf)\n",
    "np.save(\"bodys_tfidf\", bodys_tfidf)"
   ]
  },
  {
   "cell_type": "markdown",
   "metadata": {},
   "source": [
    "# Super Dummy Approach"
   ]
  },
  {
   "cell_type": "markdown",
   "metadata": {},
   "source": [
    "Классификация кликбейтных заголовков "
   ]
  },
  {
   "cell_type": "code",
   "execution_count": 231,
   "metadata": {},
   "outputs": [],
   "source": [
    "X_train, X_test, y_train, y_test = train_test_split(titles_tfidf, df_full[\"label\"].tolist(), test_size=0.2)"
   ]
  },
  {
   "cell_type": "code",
   "execution_count": 232,
   "metadata": {},
   "outputs": [],
   "source": [
    "lr = LogisticRegression(solver='sag', verbose=2, C=10)"
   ]
  },
  {
   "cell_type": "code",
   "execution_count": 233,
   "metadata": {},
   "outputs": [
    {
     "name": "stdout",
     "output_type": "stream",
     "text": [
      "convergence after 40 epochs took 0 seconds\n"
     ]
    },
    {
     "name": "stderr",
     "output_type": "stream",
     "text": [
      "[Parallel(n_jobs=1)]: Done   1 out of   1 | elapsed:    0.1s remaining:    0.0s\n",
      "[Parallel(n_jobs=1)]: Done   1 out of   1 | elapsed:    0.1s finished\n"
     ]
    },
    {
     "data": {
      "text/plain": [
       "LogisticRegression(C=10, class_weight=None, dual=False, fit_intercept=True,\n",
       "          intercept_scaling=1, max_iter=100, multi_class='ovr', n_jobs=1,\n",
       "          penalty='l2', random_state=None, solver='sag', tol=0.0001,\n",
       "          verbose=2, warm_start=False)"
      ]
     },
     "execution_count": 233,
     "metadata": {},
     "output_type": "execute_result"
    }
   ],
   "source": [
    "lr.fit(X_train, y_train)"
   ]
  },
  {
   "cell_type": "code",
   "execution_count": 234,
   "metadata": {},
   "outputs": [
    {
     "data": {
      "text/plain": [
       "0.8875968992248062"
      ]
     },
     "execution_count": 234,
     "metadata": {},
     "output_type": "execute_result"
    }
   ],
   "source": [
    "lr.score(X_test, y_test)"
   ]
  },
  {
   "cell_type": "code",
   "execution_count": 235,
   "metadata": {},
   "outputs": [
    {
     "data": {
      "image/png": "[encoded data removed]",
      "text/plain": [
       "<Figure size 1080x1080 with 2 Axes>"
      ]
     },
     "metadata": {},
     "output_type": "display_data"
    }
   ],
   "source": [
    "plot_confusion_matrix(confusion_matrix(y_test, lr.predict(X_test)), classes=lr.classes_)"
   ]
  },
  {
   "cell_type": "code",
   "execution_count": 237,
   "metadata": {},
   "outputs": [
    {
     "data": {
      "text/plain": [
       "258"
      ]
     },
     "execution_count": 237,
     "metadata": {},
     "output_type": "execute_result"
    }
   ],
   "source": [
    "X_test.shape[0]"
   ]
  },
  {
   "cell_type": "code",
   "execution_count": 238,
   "metadata": {},
   "outputs": [],
   "source": [
    "df_full[\"preds_header\"] = lr.predict(titles_tfidf)"
   ]
  },
  {
   "cell_type": "code",
   "execution_count": 239,
   "metadata": {},
   "outputs": [
    {
     "data": {
      "image/png": "[encoded data removed]",
      "text/plain": [
       "<Figure size 1080x1080 with 2 Axes>"
      ]
     },
     "metadata": {},
     "output_type": "display_data"
    }
   ],
   "source": [
    "plot_confusion_matrix(confusion_matrix(df_full[\"label\"], df_full[\"preds_header\"]), classes=lr.classes_)"
   ]
  },
  {
   "cell_type": "code",
   "execution_count": 255,
   "metadata": {},
   "outputs": [
    {
     "data": {
      "text/plain": [
       "0.9141274238227147"
      ]
     },
     "execution_count": 255,
     "metadata": {},
     "output_type": "execute_result"
    }
   ],
   "source": [
    "f1_score(df_full[\"label\"], df_full[\"preds_header\"])"
   ]
  },
  {
   "cell_type": "code",
   "execution_count": 242,
   "metadata": {},
   "outputs": [],
   "source": [
    "df_fail_header = df_full[df_full[\"label\"]!=df_full[\"preds_header\"]]"
   ]
  },
  {
   "cell_type": "code",
   "execution_count": 243,
   "metadata": {},
   "outputs": [],
   "source": [
    "df_fail_header.to_csv(\"failed_header.csv\", columns=[\"body\", \"id\", \"source\", \"title\", \"label\", \"preds_header\"])"
   ]
  },
  {
   "cell_type": "markdown",
   "metadata": {},
   "source": [
    "# Dummy Approach: Article-Header Cosine Similarity"
   ]
  },
  {
   "cell_type": "code",
   "execution_count": 244,
   "metadata": {},
   "outputs": [],
   "source": [
    "similarities = [cosine_similarity(body, title)[0] for body, title in zip(bodys_tfidf, titles_tfidf)]"
   ]
  },
  {
   "cell_type": "code",
   "execution_count": 245,
   "metadata": {},
   "outputs": [],
   "source": [
    "np.save(\"similarities\", similarities)"
   ]
  },
  {
   "cell_type": "code",
   "execution_count": 246,
   "metadata": {},
   "outputs": [],
   "source": [
    "X_train, X_test, y_train, y_test = train_test_split(similarities, df_full[\"label\"].tolist(), test_size=0.2)"
   ]
  },
  {
   "cell_type": "code",
   "execution_count": 247,
   "metadata": {},
   "outputs": [],
   "source": [
    "lr = LogisticRegression(solver='sag', verbose=2, C=10)"
   ]
  },
  {
   "cell_type": "code",
   "execution_count": 248,
   "metadata": {},
   "outputs": [
    {
     "name": "stdout",
     "output_type": "stream",
     "text": [
      "convergence after 23 epochs took 0 seconds\n"
     ]
    },
    {
     "name": "stderr",
     "output_type": "stream",
     "text": [
      "[Parallel(n_jobs=1)]: Done   1 out of   1 | elapsed:    0.0s remaining:    0.0s\n",
      "[Parallel(n_jobs=1)]: Done   1 out of   1 | elapsed:    0.0s finished\n"
     ]
    },
    {
     "data": {
      "text/plain": [
       "LogisticRegression(C=10, class_weight=None, dual=False, fit_intercept=True,\n",
       "          intercept_scaling=1, max_iter=100, multi_class='ovr', n_jobs=1,\n",
       "          penalty='l2', random_state=None, solver='sag', tol=0.0001,\n",
       "          verbose=2, warm_start=False)"
      ]
     },
     "execution_count": 248,
     "metadata": {},
     "output_type": "execute_result"
    }
   ],
   "source": [
    "lr.fit(X_train, y_train)"
   ]
  },
  {
   "cell_type": "code",
   "execution_count": 249,
   "metadata": {},
   "outputs": [
    {
     "data": {
      "text/plain": [
       "0.8488372093023255"
      ]
     },
     "execution_count": 249,
     "metadata": {},
     "output_type": "execute_result"
    }
   ],
   "source": [
    "lr.score(X_test, y_test)"
   ]
  },
  {
   "cell_type": "code",
   "execution_count": 250,
   "metadata": {},
   "outputs": [
    {
     "data": {
      "image/png": "[encoded data removed]",
      "text/plain": [
       "<Figure size 1080x1080 with 2 Axes>"
      ]
     },
     "metadata": {},
     "output_type": "display_data"
    }
   ],
   "source": [
    "plot_confusion_matrix(confusion_matrix(y_test, lr.predict(X_test)), classes=lr.classes_)"
   ]
  },
  {
   "cell_type": "code",
   "execution_count": 251,
   "metadata": {},
   "outputs": [],
   "source": [
    "preds = lr.predict(similarities)"
   ]
  },
  {
   "cell_type": "code",
   "execution_count": 252,
   "metadata": {},
   "outputs": [],
   "source": [
    "df_full[\"preds_sim\"] = preds"
   ]
  },
  {
   "cell_type": "code",
   "execution_count": 253,
   "metadata": {},
   "outputs": [
    {
     "data": {
      "text/plain": [
       "0.8664596273291926"
      ]
     },
     "execution_count": 253,
     "metadata": {},
     "output_type": "execute_result"
    }
   ],
   "source": [
    "accuracy_score(df_full[\"label\"], df_full[\"preds_sim\"])"
   ]
  },
  {
   "cell_type": "code",
   "execution_count": 254,
   "metadata": {},
   "outputs": [
    {
     "data": {
      "text/plain": [
       "0.3333333333333333"
      ]
     },
     "execution_count": 254,
     "metadata": {},
     "output_type": "execute_result"
    }
   ],
   "source": [
    "f1_score(df_full[\"label\"], df_full[\"preds_sim\"])"
   ]
  },
  {
   "cell_type": "code",
   "execution_count": 256,
   "metadata": {},
   "outputs": [
    {
     "data": {
      "image/png": "[encoded data removed]",
      "text/plain": [
       "<Figure size 1080x1080 with 2 Axes>"
      ]
     },
     "metadata": {},
     "output_type": "display_data"
    }
   ],
   "source": [
    "plot_confusion_matrix(confusion_matrix(df_full[\"label\"], df_full[\"preds_sim\"]), classes=lr.classes_)"
   ]
  },
  {
   "cell_type": "code",
   "execution_count": 259,
   "metadata": {},
   "outputs": [],
   "source": [
    "df_fail = df_full[df_full[\"preds_sim\"]!=df_full[\"label\"]]\n",
    "df_fail = df_fail[[\"body\", \"id\", \"source\", \"title\", \"label\", \"preds_sim\"]]"
   ]
  },
  {
   "cell_type": "code",
   "execution_count": 260,
   "metadata": {},
   "outputs": [
    {
     "name": "stdout",
     "output_type": "stream",
     "text": [
      "(172, 6)\n"
     ]
    },
    {
     "data": {
      "text/html": [
       "<div>\n",
       "<style scoped>\n",
       "    .dataframe tbody tr th:only-of-type {\n",
       "        vertical-align: middle;\n",
       "    }\n",
       "\n",
       "    .dataframe tbody tr th {\n",
       "        vertical-align: top;\n",
       "    }\n",
       "\n",
       "    .dataframe thead th {\n",
       "        text-align: right;\n",
       "    }\n",
       "</style>\n",
       "<table border=\"1\" class=\"dataframe\">\n",
       "  <thead>\n",
       "    <tr style=\"text-align: right;\">\n",
       "      <th></th>\n",
       "      <th>body</th>\n",
       "      <th>id</th>\n",
       "      <th>source</th>\n",
       "      <th>title</th>\n",
       "      <th>label</th>\n",
       "      <th>preds_sim</th>\n",
       "    </tr>\n",
       "  </thead>\n",
       "  <tbody>\n",
       "    <tr>\n",
       "      <th>72</th>\n",
       "      <td>В Баренцевом море кто-то напал на американскую...</td>\n",
       "      <td>https://meduza.io/paragraph/2018/11/02/etot-fi...</td>\n",
       "      <td>Meduza</td>\n",
       "      <td>Этот фильм запретили на Украине, ему не дают п...</td>\n",
       "      <td>0</td>\n",
       "      <td>1</td>\n",
       "    </tr>\n",
       "    <tr>\n",
       "      <th>124</th>\n",
       "      <td>Фото в анонсе: Владимир Астапкович / Sputnik /...</td>\n",
       "      <td>https://meduza.io/short/2018/11/01/eto-uhodyas...</td>\n",
       "      <td>Meduza</td>\n",
       "      <td>«Это уходящая натура». Замминистра связи — о б...</td>\n",
       "      <td>0</td>\n",
       "      <td>1</td>\n",
       "    </tr>\n",
       "    <tr>\n",
       "      <th>152</th>\n",
       "      <td>Фото в анонсе: BestPhotoPlus / Shutterstock.com</td>\n",
       "      <td>https://meduza.io/short/2018/10/31/minkomsvyaz...</td>\n",
       "      <td>Meduza</td>\n",
       "      <td>Минкомсвязи посоветовало россиянам подарить ци...</td>\n",
       "      <td>0</td>\n",
       "      <td>1</td>\n",
       "    </tr>\n",
       "    <tr>\n",
       "      <th>204</th>\n",
       "      <td>Фото в анонсе: Nozim Kalandarov / Reuters / Sc...</td>\n",
       "      <td>https://meduza.io/short/2018/10/30/radabon-i-d...</td>\n",
       "      <td>Meduza</td>\n",
       "      <td>Таджикистан вернет воинские звания времен импе...</td>\n",
       "      <td>0</td>\n",
       "      <td>1</td>\n",
       "    </tr>\n",
       "    <tr>\n",
       "      <th>205</th>\n",
       "      <td>Фото в анонсе: Максим Кимерлинг / ТАСС / Scanp...</td>\n",
       "      <td>https://meduza.io/short/2018/10/30/pochemu-fsi...</td>\n",
       "      <td>Meduza</td>\n",
       "      <td>Почему ФСИН не просит прощения за сталинские р...</td>\n",
       "      <td>0</td>\n",
       "      <td>1</td>\n",
       "    </tr>\n",
       "  </tbody>\n",
       "</table>\n",
       "</div>"
      ],
      "text/plain": [
       "                                                  body  \\\n",
       "72   В Баренцевом море кто-то напал на американскую...   \n",
       "124  Фото в анонсе: Владимир Астапкович / Sputnik /...   \n",
       "152    Фото в анонсе: BestPhotoPlus / Shutterstock.com   \n",
       "204  Фото в анонсе: Nozim Kalandarov / Reuters / Sc...   \n",
       "205  Фото в анонсе: Максим Кимерлинг / ТАСС / Scanp...   \n",
       "\n",
       "                                                    id  source  \\\n",
       "72   https://meduza.io/paragraph/2018/11/02/etot-fi...  Meduza   \n",
       "124  https://meduza.io/short/2018/11/01/eto-uhodyas...  Meduza   \n",
       "152  https://meduza.io/short/2018/10/31/minkomsvyaz...  Meduza   \n",
       "204  https://meduza.io/short/2018/10/30/radabon-i-d...  Meduza   \n",
       "205  https://meduza.io/short/2018/10/30/pochemu-fsi...  Meduza   \n",
       "\n",
       "                                                 title  label  preds_sim  \n",
       "72   Этот фильм запретили на Украине, ему не дают п...      0          1  \n",
       "124  «Это уходящая натура». Замминистра связи — о б...      0          1  \n",
       "152  Минкомсвязи посоветовало россиянам подарить ци...      0          1  \n",
       "204  Таджикистан вернет воинские звания времен импе...      0          1  \n",
       "205  Почему ФСИН не просит прощения за сталинские р...      0          1  "
      ]
     },
     "execution_count": 260,
     "metadata": {},
     "output_type": "execute_result"
    }
   ],
   "source": [
    "print(df_fail.shape)\n",
    "df_fail.head()"
   ]
  },
  {
   "cell_type": "code",
   "execution_count": 261,
   "metadata": {},
   "outputs": [],
   "source": [
    "df_fail.to_csv(\"sim_lr_fail.csv\")"
   ]
  },
  {
   "cell_type": "code",
   "execution_count": null,
   "metadata": {},
   "outputs": [],
   "source": [
    "df_fail[]"
   ]
  },
  {
   "cell_type": "code",
   "execution_count": 178,
   "metadata": {},
   "outputs": [
    {
     "data": {
      "text/plain": [
       "(719, 9)"
      ]
     },
     "execution_count": 178,
     "metadata": {},
     "output_type": "execute_result"
    }
   ],
   "source": [
    "df_full.drop_duplicates().shape"
   ]
  },
  {
   "cell_type": "code",
   "execution_count": 265,
   "metadata": {},
   "outputs": [
    {
     "data": {
      "image/png": "[encoded data removed]",
      "text/plain": [
       "<Figure size 720x720 with 1 Axes>"
      ]
     },
     "metadata": {},
     "output_type": "display_data"
    }
   ],
   "source": [
    "fig = plt.figure(figsize=(10, 10))\n",
    "plt.hist(df_fail.drop_duplicates()[\"source\"].tolist(), bins=3, color=\"tab:cyan\")\n",
    "plt.xlabel(\"Source\")\n",
    "plt.ylabel(\"Number of articles\")\n",
    "plt.show()"
   ]
  },
  {
   "cell_type": "code",
   "execution_count": null,
   "metadata": {},
   "outputs": [],
   "source": []
  }
 ],
 "metadata": {
  "kernelspec": {
   "display_name": "Python 3",
   "language": "python",
   "name": "python3"
  },
  "language_info": {
   "codemirror_mode": {
    "name": "ipython",
    "version": 3
   },
   "file_extension": ".py",
   "mimetype": "text/x-python",
   "name": "python",
   "nbconvert_exporter": "python",
   "pygments_lexer": "ipython3",
   "version": "3.6.5"
  }
 },
 "nbformat": 4,
 "nbformat_minor": 2
}
